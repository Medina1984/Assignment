{
 "cells": [
  {
   "cell_type": "code",
   "execution_count": 8,
   "metadata": {},
   "outputs": [],
   "source": [
    "import pandas as pd\n",
    "import numpy as np"
   ]
  },
  {
   "cell_type": "code",
   "execution_count": 10,
   "metadata": {},
   "outputs": [],
   "source": [
    "#creating a dataframe\n",
    "elclasico = [[\"Messi\", \"Barcelona\", \"Striker\", 10], [\"Ronaldo\", \"Juventus\", \"Striker\", 7], [\"Mo Sallah\", \"Liverpool\", \"Striker\", 10],  [\"Kante\", \"Chelsea\", \"Midfielder\", 7], [\"Hazard\", \"Real Madrid\", \"Midfielder\", 10],  [\"Iheanacho\", \"Leicester\", \"striker\", 14 ], [\"Indidi\", \"Leicester\",\"Midfielder\", 25],  [\"Kane\", \"Tottenham\", \"Midfeilder\", 10],[\"Pogba\", \"Mancester United\", \"Midfeilder\", 6], [\"Rashford\", \"Manchester United\", \"Midfeilder\", 10]]  "
   ]
  },
  {
   "cell_type": "code",
   "execution_count": 43,
   "metadata": {},
   "outputs": [
    {
     "data": {
      "text/html": [
       "<div>\n",
       "<style scoped>\n",
       "    .dataframe tbody tr th:only-of-type {\n",
       "        vertical-align: middle;\n",
       "    }\n",
       "\n",
       "    .dataframe tbody tr th {\n",
       "        vertical-align: top;\n",
       "    }\n",
       "\n",
       "    .dataframe thead th {\n",
       "        text-align: right;\n",
       "    }\n",
       "</style>\n",
       "<table border=\"1\" class=\"dataframe\">\n",
       "  <thead>\n",
       "    <tr style=\"text-align: right;\">\n",
       "      <th></th>\n",
       "      <th>Player</th>\n",
       "      <th>Club</th>\n",
       "      <th>Position</th>\n",
       "      <th>Jersey No</th>\n",
       "    </tr>\n",
       "  </thead>\n",
       "  <tbody>\n",
       "    <tr>\n",
       "      <th>0</th>\n",
       "      <td>Messi</td>\n",
       "      <td>Barcelona</td>\n",
       "      <td>Striker</td>\n",
       "      <td>10</td>\n",
       "    </tr>\n",
       "    <tr>\n",
       "      <th>1</th>\n",
       "      <td>Ronaldo</td>\n",
       "      <td>Juventus</td>\n",
       "      <td>Striker</td>\n",
       "      <td>7</td>\n",
       "    </tr>\n",
       "    <tr>\n",
       "      <th>2</th>\n",
       "      <td>Mo Sallah</td>\n",
       "      <td>Liverpool</td>\n",
       "      <td>Striker</td>\n",
       "      <td>10</td>\n",
       "    </tr>\n",
       "    <tr>\n",
       "      <th>3</th>\n",
       "      <td>Kante</td>\n",
       "      <td>Chelsea</td>\n",
       "      <td>Midfielder</td>\n",
       "      <td>7</td>\n",
       "    </tr>\n",
       "    <tr>\n",
       "      <th>4</th>\n",
       "      <td>Hazard</td>\n",
       "      <td>Real Madrid</td>\n",
       "      <td>Midfielder</td>\n",
       "      <td>10</td>\n",
       "    </tr>\n",
       "    <tr>\n",
       "      <th>5</th>\n",
       "      <td>Iheanacho</td>\n",
       "      <td>Leicester</td>\n",
       "      <td>striker</td>\n",
       "      <td>14</td>\n",
       "    </tr>\n",
       "    <tr>\n",
       "      <th>6</th>\n",
       "      <td>Indidi</td>\n",
       "      <td>Leicester</td>\n",
       "      <td>Midfielder</td>\n",
       "      <td>25</td>\n",
       "    </tr>\n",
       "    <tr>\n",
       "      <th>7</th>\n",
       "      <td>Kane</td>\n",
       "      <td>Tottenham</td>\n",
       "      <td>Midfeilder</td>\n",
       "      <td>10</td>\n",
       "    </tr>\n",
       "    <tr>\n",
       "      <th>8</th>\n",
       "      <td>Pogba</td>\n",
       "      <td>Mancester United</td>\n",
       "      <td>Midfeilder</td>\n",
       "      <td>6</td>\n",
       "    </tr>\n",
       "    <tr>\n",
       "      <th>9</th>\n",
       "      <td>Rashford</td>\n",
       "      <td>Manchester United</td>\n",
       "      <td>Midfeilder</td>\n",
       "      <td>10</td>\n",
       "    </tr>\n",
       "  </tbody>\n",
       "</table>\n",
       "</div>"
      ],
      "text/plain": [
       "      Player               Club    Position  Jersey No\n",
       "0      Messi          Barcelona     Striker         10\n",
       "1    Ronaldo           Juventus     Striker          7\n",
       "2  Mo Sallah          Liverpool     Striker         10\n",
       "3      Kante            Chelsea  Midfielder          7\n",
       "4     Hazard        Real Madrid  Midfielder         10\n",
       "5  Iheanacho          Leicester     striker         14\n",
       "6     Indidi          Leicester  Midfielder         25\n",
       "7       Kane          Tottenham  Midfeilder         10\n",
       "8      Pogba   Mancester United  Midfeilder          6\n",
       "9   Rashford  Manchester United  Midfeilder         10"
      ]
     },
     "execution_count": 43,
     "metadata": {},
     "output_type": "execute_result"
    }
   ],
   "source": [
    "#assigning names to the columns\n",
    "Football= pd.DataFrame(elclasico, columns = [\"Player\", \"Club\", \"Position\", \"Jersey No\"])\n",
    "Football"
   ]
  },
  {
   "cell_type": "markdown",
   "metadata": {},
   "source": [
    "**Extract the first five rows**"
   ]
  },
  {
   "cell_type": "code",
   "execution_count": 28,
   "metadata": {},
   "outputs": [
    {
     "data": {
      "text/html": [
       "<div>\n",
       "<style scoped>\n",
       "    .dataframe tbody tr th:only-of-type {\n",
       "        vertical-align: middle;\n",
       "    }\n",
       "\n",
       "    .dataframe tbody tr th {\n",
       "        vertical-align: top;\n",
       "    }\n",
       "\n",
       "    .dataframe thead th {\n",
       "        text-align: right;\n",
       "    }\n",
       "</style>\n",
       "<table border=\"1\" class=\"dataframe\">\n",
       "  <thead>\n",
       "    <tr style=\"text-align: right;\">\n",
       "      <th></th>\n",
       "      <th>Player</th>\n",
       "      <th>Club</th>\n",
       "      <th>Position</th>\n",
       "      <th>Jersey No</th>\n",
       "    </tr>\n",
       "  </thead>\n",
       "  <tbody>\n",
       "    <tr>\n",
       "      <th>1st</th>\n",
       "      <td>Messi</td>\n",
       "      <td>Barcelona</td>\n",
       "      <td>Striker</td>\n",
       "      <td>10</td>\n",
       "    </tr>\n",
       "    <tr>\n",
       "      <th>2nd</th>\n",
       "      <td>Ronaldo</td>\n",
       "      <td>Juventus</td>\n",
       "      <td>Striker</td>\n",
       "      <td>7</td>\n",
       "    </tr>\n",
       "    <tr>\n",
       "      <th>3rd</th>\n",
       "      <td>Mo Sallah</td>\n",
       "      <td>Liverpool</td>\n",
       "      <td>Striker</td>\n",
       "      <td>10</td>\n",
       "    </tr>\n",
       "    <tr>\n",
       "      <th>4th</th>\n",
       "      <td>Kante</td>\n",
       "      <td>Chelsea</td>\n",
       "      <td>Midfielder</td>\n",
       "      <td>7</td>\n",
       "    </tr>\n",
       "    <tr>\n",
       "      <th>5th</th>\n",
       "      <td>Hazard</td>\n",
       "      <td>Real Madrid</td>\n",
       "      <td>Midfielder</td>\n",
       "      <td>10</td>\n",
       "    </tr>\n",
       "  </tbody>\n",
       "</table>\n",
       "</div>"
      ],
      "text/plain": [
       "        Player         Club    Position  Jersey No\n",
       "1st      Messi    Barcelona     Striker         10\n",
       "2nd    Ronaldo     Juventus     Striker          7\n",
       "3rd  Mo Sallah    Liverpool     Striker         10\n",
       "4th      Kante      Chelsea  Midfielder          7\n",
       "5th     Hazard  Real Madrid  Midfielder         10"
      ]
     },
     "execution_count": 28,
     "metadata": {},
     "output_type": "execute_result"
    }
   ],
   "source": [
    "#using the loc method\n",
    "Football.loc[\"1st\":\"5th\"]"
   ]
  },
  {
   "cell_type": "code",
   "execution_count": 30,
   "metadata": {},
   "outputs": [
    {
     "data": {
      "text/html": [
       "<div>\n",
       "<style scoped>\n",
       "    .dataframe tbody tr th:only-of-type {\n",
       "        vertical-align: middle;\n",
       "    }\n",
       "\n",
       "    .dataframe tbody tr th {\n",
       "        vertical-align: top;\n",
       "    }\n",
       "\n",
       "    .dataframe thead th {\n",
       "        text-align: right;\n",
       "    }\n",
       "</style>\n",
       "<table border=\"1\" class=\"dataframe\">\n",
       "  <thead>\n",
       "    <tr style=\"text-align: right;\">\n",
       "      <th></th>\n",
       "      <th>Player</th>\n",
       "      <th>Club</th>\n",
       "      <th>Position</th>\n",
       "      <th>Jersey No</th>\n",
       "    </tr>\n",
       "  </thead>\n",
       "  <tbody>\n",
       "    <tr>\n",
       "      <th>1st</th>\n",
       "      <td>Messi</td>\n",
       "      <td>Barcelona</td>\n",
       "      <td>Striker</td>\n",
       "      <td>10</td>\n",
       "    </tr>\n",
       "    <tr>\n",
       "      <th>2nd</th>\n",
       "      <td>Ronaldo</td>\n",
       "      <td>Juventus</td>\n",
       "      <td>Striker</td>\n",
       "      <td>7</td>\n",
       "    </tr>\n",
       "    <tr>\n",
       "      <th>3rd</th>\n",
       "      <td>Mo Sallah</td>\n",
       "      <td>Liverpool</td>\n",
       "      <td>Striker</td>\n",
       "      <td>10</td>\n",
       "    </tr>\n",
       "    <tr>\n",
       "      <th>4th</th>\n",
       "      <td>Kante</td>\n",
       "      <td>Chelsea</td>\n",
       "      <td>Midfielder</td>\n",
       "      <td>7</td>\n",
       "    </tr>\n",
       "    <tr>\n",
       "      <th>5th</th>\n",
       "      <td>Hazard</td>\n",
       "      <td>Real Madrid</td>\n",
       "      <td>Midfielder</td>\n",
       "      <td>10</td>\n",
       "    </tr>\n",
       "  </tbody>\n",
       "</table>\n",
       "</div>"
      ],
      "text/plain": [
       "        Player         Club    Position  Jersey No\n",
       "1st      Messi    Barcelona     Striker         10\n",
       "2nd    Ronaldo     Juventus     Striker          7\n",
       "3rd  Mo Sallah    Liverpool     Striker         10\n",
       "4th      Kante      Chelsea  Midfielder          7\n",
       "5th     Hazard  Real Madrid  Midfielder         10"
      ]
     },
     "execution_count": 30,
     "metadata": {},
     "output_type": "execute_result"
    }
   ],
   "source": [
    "#using iloc method\n",
    "Football.iloc[0:5]"
   ]
  },
  {
   "cell_type": "code",
   "execution_count": 39,
   "metadata": {},
   "outputs": [
    {
     "data": {
      "text/html": [
       "<div>\n",
       "<style scoped>\n",
       "    .dataframe tbody tr th:only-of-type {\n",
       "        vertical-align: middle;\n",
       "    }\n",
       "\n",
       "    .dataframe tbody tr th {\n",
       "        vertical-align: top;\n",
       "    }\n",
       "\n",
       "    .dataframe thead th {\n",
       "        text-align: right;\n",
       "    }\n",
       "</style>\n",
       "<table border=\"1\" class=\"dataframe\">\n",
       "  <thead>\n",
       "    <tr style=\"text-align: right;\">\n",
       "      <th></th>\n",
       "      <th>Footballer</th>\n",
       "    </tr>\n",
       "  </thead>\n",
       "  <tbody>\n",
       "    <tr>\n",
       "      <th>0</th>\n",
       "      <td>Messi</td>\n",
       "    </tr>\n",
       "    <tr>\n",
       "      <th>1</th>\n",
       "      <td>Ronaldo</td>\n",
       "    </tr>\n",
       "    <tr>\n",
       "      <th>2</th>\n",
       "      <td>Mo Sallah</td>\n",
       "    </tr>\n",
       "    <tr>\n",
       "      <th>3</th>\n",
       "      <td>Kante</td>\n",
       "    </tr>\n",
       "    <tr>\n",
       "      <th>4</th>\n",
       "      <td>Hazard</td>\n",
       "    </tr>\n",
       "    <tr>\n",
       "      <th>5</th>\n",
       "      <td>Iheanacho</td>\n",
       "    </tr>\n",
       "    <tr>\n",
       "      <th>6</th>\n",
       "      <td>Indidi</td>\n",
       "    </tr>\n",
       "    <tr>\n",
       "      <th>7</th>\n",
       "      <td>Kane</td>\n",
       "    </tr>\n",
       "    <tr>\n",
       "      <th>8</th>\n",
       "      <td>Pogba</td>\n",
       "    </tr>\n",
       "    <tr>\n",
       "      <th>9</th>\n",
       "      <td>Rashford</td>\n",
       "    </tr>\n",
       "  </tbody>\n",
       "</table>\n",
       "</div>"
      ],
      "text/plain": [
       "  Footballer\n",
       "0      Messi\n",
       "1    Ronaldo\n",
       "2  Mo Sallah\n",
       "3      Kante\n",
       "4     Hazard\n",
       "5  Iheanacho\n",
       "6     Indidi\n",
       "7       Kane\n",
       "8      Pogba\n",
       "9   Rashford"
      ]
     },
     "execution_count": 39,
     "metadata": {},
     "output_type": "execute_result"
    }
   ],
   "source": [
    "Football = pd.DataFrame({\"Player\":[\"Messi\",\"Ronaldo\",\"Mo Sallah\",\"Kante\",\"Hazard\",\"Iheanacho\",\"Indidi\",\"Kane\",\"Pogba\",\"Rashford\"]})\n",
    "Football.columns = [\"Footballer\"]\n",
    "Football"
   ]
  },
  {
   "cell_type": "code",
   "execution_count": 44,
   "metadata": {},
   "outputs": [
    {
     "data": {
      "text/html": [
       "<div>\n",
       "<style scoped>\n",
       "    .dataframe tbody tr th:only-of-type {\n",
       "        vertical-align: middle;\n",
       "    }\n",
       "\n",
       "    .dataframe tbody tr th {\n",
       "        vertical-align: top;\n",
       "    }\n",
       "\n",
       "    .dataframe thead th {\n",
       "        text-align: right;\n",
       "    }\n",
       "</style>\n",
       "<table border=\"1\" class=\"dataframe\">\n",
       "  <thead>\n",
       "    <tr style=\"text-align: right;\">\n",
       "      <th></th>\n",
       "      <th>Player</th>\n",
       "      <th>CN</th>\n",
       "      <th>Position</th>\n",
       "      <th>Jersey No</th>\n",
       "    </tr>\n",
       "  </thead>\n",
       "  <tbody>\n",
       "    <tr>\n",
       "      <th>0</th>\n",
       "      <td>Messi</td>\n",
       "      <td>Barcelona</td>\n",
       "      <td>Striker</td>\n",
       "      <td>10</td>\n",
       "    </tr>\n",
       "    <tr>\n",
       "      <th>1</th>\n",
       "      <td>Ronaldo</td>\n",
       "      <td>Juventus</td>\n",
       "      <td>Striker</td>\n",
       "      <td>7</td>\n",
       "    </tr>\n",
       "    <tr>\n",
       "      <th>2</th>\n",
       "      <td>Mo Sallah</td>\n",
       "      <td>Liverpool</td>\n",
       "      <td>Striker</td>\n",
       "      <td>10</td>\n",
       "    </tr>\n",
       "    <tr>\n",
       "      <th>3</th>\n",
       "      <td>Kante</td>\n",
       "      <td>Chelsea</td>\n",
       "      <td>Midfielder</td>\n",
       "      <td>7</td>\n",
       "    </tr>\n",
       "    <tr>\n",
       "      <th>4</th>\n",
       "      <td>Hazard</td>\n",
       "      <td>Real Madrid</td>\n",
       "      <td>Midfielder</td>\n",
       "      <td>10</td>\n",
       "    </tr>\n",
       "    <tr>\n",
       "      <th>5</th>\n",
       "      <td>Iheanacho</td>\n",
       "      <td>Leicester</td>\n",
       "      <td>striker</td>\n",
       "      <td>14</td>\n",
       "    </tr>\n",
       "    <tr>\n",
       "      <th>6</th>\n",
       "      <td>Indidi</td>\n",
       "      <td>Leicester</td>\n",
       "      <td>Midfielder</td>\n",
       "      <td>25</td>\n",
       "    </tr>\n",
       "    <tr>\n",
       "      <th>7</th>\n",
       "      <td>Kane</td>\n",
       "      <td>Tottenham</td>\n",
       "      <td>Midfeilder</td>\n",
       "      <td>10</td>\n",
       "    </tr>\n",
       "    <tr>\n",
       "      <th>8</th>\n",
       "      <td>Pogba</td>\n",
       "      <td>Mancester United</td>\n",
       "      <td>Midfeilder</td>\n",
       "      <td>6</td>\n",
       "    </tr>\n",
       "    <tr>\n",
       "      <th>9</th>\n",
       "      <td>Rashford</td>\n",
       "      <td>Manchester United</td>\n",
       "      <td>Midfeilder</td>\n",
       "      <td>10</td>\n",
       "    </tr>\n",
       "  </tbody>\n",
       "</table>\n",
       "</div>"
      ],
      "text/plain": [
       "      Player                 CN    Position  Jersey No\n",
       "0      Messi          Barcelona     Striker         10\n",
       "1    Ronaldo           Juventus     Striker          7\n",
       "2  Mo Sallah          Liverpool     Striker         10\n",
       "3      Kante            Chelsea  Midfielder          7\n",
       "4     Hazard        Real Madrid  Midfielder         10\n",
       "5  Iheanacho          Leicester     striker         14\n",
       "6     Indidi          Leicester  Midfielder         25\n",
       "7       Kane          Tottenham  Midfeilder         10\n",
       "8      Pogba   Mancester United  Midfeilder          6\n",
       "9   Rashford  Manchester United  Midfeilder         10"
      ]
     },
     "execution_count": 44,
     "metadata": {},
     "output_type": "execute_result"
    }
   ],
   "source": [
    "#renaming columns\n",
    "Football2 = Football.rename(columns = {\"Club\":\"CN\"})\n",
    "Football2"
   ]
  },
  {
   "cell_type": "code",
   "execution_count": 38,
   "metadata": {},
   "outputs": [
    {
     "name": "stdout",
     "output_type": "stream",
     "text": [
      "0    10.0\n",
      "1     7.0\n",
      "2    10.0\n",
      "3     7.0\n",
      "4    10.0\n",
      "5    14.0\n",
      "6    25.0\n",
      "7    10.0\n",
      "8     6.0\n",
      "9    10.0\n",
      "Name: Jersey No, dtype: float64\n"
     ]
    }
   ],
   "source": [
    "#converting column with integer to float\n",
    "Football_New = Football[\"Jersey No\" ] = Football [\"Jersey No\"].astype(float)\n",
    "print(Football_New)"
   ]
  },
  {
   "cell_type": "code",
   "execution_count": 41,
   "metadata": {},
   "outputs": [
    {
     "data": {
      "text/plain": [
       "'Liverpool'"
      ]
     },
     "execution_count": 41,
     "metadata": {},
     "output_type": "execute_result"
    }
   ],
   "source": [
    "#identifying cell content using iloc method\n",
    "Football.iloc[2,1]"
   ]
  },
  {
   "cell_type": "code",
   "execution_count": 40,
   "metadata": {},
   "outputs": [
    {
     "data": {
      "text/html": [
       "<div>\n",
       "<style scoped>\n",
       "    .dataframe tbody tr th:only-of-type {\n",
       "        vertical-align: middle;\n",
       "    }\n",
       "\n",
       "    .dataframe tbody tr th {\n",
       "        vertical-align: top;\n",
       "    }\n",
       "\n",
       "    .dataframe thead th {\n",
       "        text-align: right;\n",
       "    }\n",
       "</style>\n",
       "<table border=\"1\" class=\"dataframe\">\n",
       "  <thead>\n",
       "    <tr style=\"text-align: right;\">\n",
       "      <th></th>\n",
       "      <th>Player</th>\n",
       "      <th>Club</th>\n",
       "      <th>Position</th>\n",
       "      <th>Jersey No</th>\n",
       "    </tr>\n",
       "  </thead>\n",
       "  <tbody>\n",
       "    <tr>\n",
       "      <th>1st</th>\n",
       "      <td>Messi</td>\n",
       "      <td>Barcelona</td>\n",
       "      <td>Striker</td>\n",
       "      <td>10</td>\n",
       "    </tr>\n",
       "    <tr>\n",
       "      <th>2nd</th>\n",
       "      <td>Ronaldo</td>\n",
       "      <td>Juventus</td>\n",
       "      <td>Striker</td>\n",
       "      <td>7</td>\n",
       "    </tr>\n",
       "    <tr>\n",
       "      <th>3rd</th>\n",
       "      <td>Mo Sallah</td>\n",
       "      <td>Liverpool</td>\n",
       "      <td>Striker</td>\n",
       "      <td>10</td>\n",
       "    </tr>\n",
       "    <tr>\n",
       "      <th>4th</th>\n",
       "      <td>Kante</td>\n",
       "      <td>Chelsea</td>\n",
       "      <td>Midfielder</td>\n",
       "      <td>7</td>\n",
       "    </tr>\n",
       "    <tr>\n",
       "      <th>5th</th>\n",
       "      <td>Hazard</td>\n",
       "      <td>Real Madrid</td>\n",
       "      <td>Midfielder</td>\n",
       "      <td>10</td>\n",
       "    </tr>\n",
       "    <tr>\n",
       "      <th>6th</th>\n",
       "      <td>Iheanacho</td>\n",
       "      <td>Leicester</td>\n",
       "      <td>striker</td>\n",
       "      <td>14</td>\n",
       "    </tr>\n",
       "    <tr>\n",
       "      <th>7th</th>\n",
       "      <td>Indidi</td>\n",
       "      <td>Leicester</td>\n",
       "      <td>Midfielder</td>\n",
       "      <td>25</td>\n",
       "    </tr>\n",
       "    <tr>\n",
       "      <th>8th</th>\n",
       "      <td>Kane</td>\n",
       "      <td>Tottenham</td>\n",
       "      <td>Midfeilder</td>\n",
       "      <td>10</td>\n",
       "    </tr>\n",
       "    <tr>\n",
       "      <th>9th</th>\n",
       "      <td>Pogba</td>\n",
       "      <td>Mancester United</td>\n",
       "      <td>Midfeilder</td>\n",
       "      <td>6</td>\n",
       "    </tr>\n",
       "    <tr>\n",
       "      <th>10th</th>\n",
       "      <td>Rashford</td>\n",
       "      <td>Manchester United</td>\n",
       "      <td>Midfeilder</td>\n",
       "      <td>10</td>\n",
       "    </tr>\n",
       "  </tbody>\n",
       "</table>\n",
       "</div>"
      ],
      "text/plain": [
       "         Player               Club    Position  Jersey No\n",
       "1st       Messi          Barcelona     Striker         10\n",
       "2nd     Ronaldo           Juventus     Striker          7\n",
       "3rd   Mo Sallah          Liverpool     Striker         10\n",
       "4th       Kante            Chelsea  Midfielder          7\n",
       "5th      Hazard        Real Madrid  Midfielder         10\n",
       "6th   Iheanacho          Leicester     striker         14\n",
       "7th      Indidi          Leicester  Midfielder         25\n",
       "8th        Kane          Tottenham  Midfeilder         10\n",
       "9th       Pogba   Mancester United  Midfeilder          6\n",
       "10th   Rashford  Manchester United  Midfeilder         10"
      ]
     },
     "execution_count": 40,
     "metadata": {},
     "output_type": "execute_result"
    }
   ],
   "source": [
    "#Renaming row index\n",
    "Football= pd.DataFrame(elclasico, columns = [\"Player\", \"Club\", \"Position\", \"Jersey No\"])\n",
    "Football\n",
    "Football.index = [\"1st\", \"2nd\", \"3rd\", \"4th\", \"5th\", \"6th\", \"7th\", \"8th\", \"9th\", \"10th\"]\n",
    "Football"
   ]
  },
  {
   "cell_type": "code",
   "execution_count": 42,
   "metadata": {},
   "outputs": [
    {
     "name": "stdout",
     "output_type": "stream",
     "text": [
      "      Player               Club    Position  Jersey No\n",
      "0      Messi          Barcelona     Striker         10\n",
      "1    Ronaldo           Juventus     Striker          7\n",
      "2  Mo Sallah          Liverpool     Striker         10\n",
      "3      Kante            Chelsea  Midfielder          7\n",
      "4     Hazard        Real Madrid  Midfielder         10\n",
      "5  Iheanacho          Leicester     striker         14\n",
      "6     Indidi          Leicester  Midfielder         25\n",
      "7       Kane          Tottenham  Midfeilder         10\n",
      "8      Pogba   Mancester United  Midfeilder          6\n",
      "9   Rashford  Manchester United  Midfeilder         10\n"
     ]
    }
   ],
   "source": [
    "#Resetting index\n",
    "Football.reset_index(inplace=True,drop =True)\n",
    "print(Football)"
   ]
  },
  {
   "cell_type": "code",
   "execution_count": 14,
   "metadata": {},
   "outputs": [
    {
     "name": "stdout",
     "output_type": "stream",
     "text": [
      "The shape of the array is, (3, 4)\n",
      "\n"
     ]
    },
    {
     "data": {
      "text/plain": [
       "array([[10,  8,  6,  4],\n",
       "       [20, 18, 16, 14],\n",
       "       [12,  9,  7,  3]])"
      ]
     },
     "execution_count": 14,
     "metadata": {},
     "output_type": "execute_result"
    }
   ],
   "source": [
    "#creating a two dimentional array\n",
    "twoDim =np.array ([[10, 8, 6, 4], [20, 18, 16, 14], [12, 9, 7, 3]])\n",
    "print(f\"The shape of the array is, {twoDim.shape}\\n\")\n",
    "twoDim"
   ]
  },
  {
   "cell_type": "code",
   "execution_count": 15,
   "metadata": {},
   "outputs": [
    {
     "name": "stdout",
     "output_type": "stream",
     "text": [
      "(4, 3)\n"
     ]
    }
   ],
   "source": [
    "#Transposing an array\n",
    "arrayTranspose = twoDim.T\n",
    "print(arrayTranspose.shape)"
   ]
  },
  {
   "cell_type": "code",
   "execution_count": 36,
   "metadata": {},
   "outputs": [
    {
     "data": {
      "text/plain": [
       "array([[0.16084859, 0.54175891, 0.98098929],\n",
       "       [0.52552263, 0.29395511, 0.13281397],\n",
       "       [0.61425161, 0.50717884, 0.51999787],\n",
       "       [0.62913577, 0.35111614, 0.59675117]])"
      ]
     },
     "execution_count": 36,
     "metadata": {},
     "output_type": "execute_result"
    }
   ],
   "source": [
    "randArray = np.random.rand(4,3)\n",
    "randArray"
   ]
  },
  {
   "cell_type": "code",
   "execution_count": 37,
   "metadata": {},
   "outputs": [
    {
     "name": "stdout",
     "output_type": "stream",
     "text": [
      "[[10  8  6  4]\n",
      " [20 18 16 14]\n",
      " [12  9  7  3]]\n",
      "[[0.16084859 0.54175891 0.98098929]\n",
      " [0.52552263 0.29395511 0.13281397]\n",
      " [0.61425161 0.50717884 0.51999787]\n",
      " [0.62913577 0.35111614 0.59675117]]\n"
     ]
    }
   ],
   "source": [
    "#multiplying array1 and array2\n",
    "array1 = twoDim\n",
    "array2 = randArray\n",
    "\n",
    "print(array1)\n",
    "print(array2)\n"
   ]
  },
  {
   "cell_type": "code",
   "execution_count": 38,
   "metadata": {},
   "outputs": [
    {
     "data": {
      "text/plain": [
       "array([[12.01471966, 12.2167675 , 16.37939663],\n",
       "       [31.31230562, 29.15685741, 38.68491971],\n",
       "       [12.84705531, 13.75030311, 18.39743589]])"
      ]
     },
     "execution_count": 38,
     "metadata": {},
     "output_type": "execute_result"
    }
   ],
   "source": [
    "array1.dot(array2)"
   ]
  },
  {
   "cell_type": "code",
   "execution_count": null,
   "metadata": {},
   "outputs": [],
   "source": []
  },
  {
   "cell_type": "code",
   "execution_count": null,
   "metadata": {},
   "outputs": [],
   "source": []
  }
 ],
 "metadata": {
  "kernelspec": {
   "display_name": "Python 3",
   "language": "python",
   "name": "python3"
  },
  "language_info": {
   "codemirror_mode": {
    "name": "ipython",
    "version": 3
   },
   "file_extension": ".py",
   "mimetype": "text/x-python",
   "name": "python",
   "nbconvert_exporter": "python",
   "pygments_lexer": "ipython3",
   "version": "3.8.5"
  }
 },
 "nbformat": 4,
 "nbformat_minor": 4
}
